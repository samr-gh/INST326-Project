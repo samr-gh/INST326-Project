{
 "metadata": {
  "language_info": {
   "codemirror_mode": {
    "name": "ipython",
    "version": 3
   },
   "file_extension": ".py",
   "mimetype": "text/x-python",
   "name": "python",
   "nbconvert_exporter": "python",
   "pygments_lexer": "ipython3",
   "version": "3.8.5"
  },
  "orig_nbformat": 2,
  "kernelspec": {
   "name": "python385jvsc74a57bd05894a807992dd6895597051176e46a3bcbda403b5c736c1484b8eca2210508e2",
   "display_name": "Python 3.8.5 64-bit (conda)"
  }
 },
 "nbformat": 4,
 "nbformat_minor": 2,
 "cells": [
  {
   "cell_type": "code",
   "execution_count": 73,
   "metadata": {},
   "outputs": [],
   "source": [
    "import urllib.request\n",
    "from bs4 import BeautifulSoup\n",
    "import time\n",
    "import re"
   ]
  },
  {
   "cell_type": "code",
   "execution_count": 74,
   "metadata": {},
   "outputs": [],
   "source": [
    "product_names = []\n",
    "product_gender = []\n",
    "product_colors = []\n",
    "product_prices = []"
   ]
  },
  {
   "cell_type": "code",
   "execution_count": 75,
   "metadata": {},
   "outputs": [],
   "source": [
    "#specify the url\n",
    "fl = \"https://www.footlocker.com/category/mens/shoes.html\""
   ]
  },
  {
   "cell_type": "code",
   "execution_count": 76,
   "metadata": {},
   "outputs": [],
   "source": [
    "#query the site and return the html\n",
    "page = urllib.request.urlopen(fl)\n",
    "time.sleep(2)"
   ]
  },
  {
   "cell_type": "code",
   "execution_count": 77,
   "metadata": {},
   "outputs": [],
   "source": [
    "#parse the html\n",
    "soup = BeautifulSoup(page, \"html.parser\")"
   ]
  },
  {
   "cell_type": "code",
   "execution_count": 78,
   "metadata": {},
   "outputs": [],
   "source": [
    "for p in soup.find_all('span', class_='ProductName-primary'):\n",
    "    product_names.append(p.text)\n",
    "#print(len(product_names))"
   ]
  },
  {
   "cell_type": "code",
   "execution_count": 79,
   "metadata": {},
   "outputs": [],
   "source": [
    "# product_gender = []\n",
    "for p in soup.find_all('span', class_='ProductName-alt'):\n",
    "    gender = (re.search(r\"(.*)•\", p.text)).group(1)\n",
    "    product_gender.append(gender)\n",
    "    #print(p.text)\n",
    "#print(product_gender)"
   ]
  },
  {
   "cell_type": "code",
   "execution_count": 80,
   "metadata": {},
   "outputs": [],
   "source": [
    "for p in soup.find_all('span', class_='ProductName-alt'):\n",
    "    colors = (re.search(r\"•(.*)\", p.text)).group(1)\n",
    "    product_colors.append(colors)\n",
    "#print(product_colors)"
   ]
  },
  {
   "cell_type": "code",
   "execution_count": 81,
   "metadata": {},
   "outputs": [],
   "source": [
    "for p in soup.find_all('span', class_='ProductPrice'):\n",
    "    product_prices.append(float(p.text[1:]))\n",
    "#print(product_prices)"
   ]
  },
  {
   "cell_type": "code",
   "execution_count": 82,
   "metadata": {},
   "outputs": [
    {
     "output_type": "stream",
     "name": "stdout",
     "text": [
      "Jordan True Flight Men's White/Cement 140.0\n"
     ]
    }
   ],
   "source": [
    "print(product_names, product_gender, product_colors, product_prices)"
   ]
  }
 ]
}
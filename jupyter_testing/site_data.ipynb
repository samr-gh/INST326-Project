{
 "metadata": {
  "language_info": {
   "codemirror_mode": {
    "name": "ipython",
    "version": 3
   },
   "file_extension": ".py",
   "mimetype": "text/x-python",
   "name": "python",
   "nbconvert_exporter": "python",
   "pygments_lexer": "ipython3",
   "version": "3.8.5"
  },
  "orig_nbformat": 2,
  "kernelspec": {
   "name": "python385jvsc74a57bd05894a807992dd6895597051176e46a3bcbda403b5c736c1484b8eca2210508e2",
   "display_name": "Python 3.8.5 64-bit ('base': conda)"
  }
 },
 "nbformat": 4,
 "nbformat_minor": 2,
 "cells": [
  {
   "cell_type": "code",
   "execution_count": 15,
   "metadata": {},
   "outputs": [],
   "source": [
    "import urllib.request\n",
    "from bs4 import BeautifulSoup\n",
    "import time\n",
    "import re\n",
    "import pandas as pd"
   ]
  },
  {
   "cell_type": "code",
   "execution_count": 16,
   "metadata": {},
   "outputs": [],
   "source": [
    "product_names = [\"Nike\", \"Adidas\", \"Jordan\", \"Puma\"]\n",
    "product_gender = [\"Men's\", \"Men's\", \"Women's\", \"Women's\"]\n",
    "product_colors = [\"White/Black\", \"Red/University Red/Violet\", \"Blue\", \"Teal/Teal\"]\n",
    "product_prices = [120.00, 49.99, 150.0, 225]\n",
    "product_description = [\"Nike is awesome\", \"Adidas is cool\", \"Jordan is great\", \"Puma is nice\"]\n",
    "product_sizes = [\"05.005.506.010.010.5\", \"05.005.508.010.010.5\", \"05.015.506.010.013.5\", \"09.005.506.010.010.5\"]\n",
    "product_num = [\"B12341\", \"1243252\", \"23452GDs\", \"Dds2545DGVBser\"]"
   ]
  },
  {
   "cell_type": "code",
   "execution_count": 25,
   "metadata": {},
   "outputs": [
    {
     "output_type": "stream",
     "name": "stdout",
     "text": [
      "0\n0\n0\n0\n0\n['0', 'Nike', \"Men's\", 'White/Black', '120.0', 'Nike is awesome', '05.005.506.010.010.5', 'B12341']\n"
     ]
    }
   ],
   "source": [
    "import csv\n",
    "\n",
    "attributes = [\"nike\"]\n",
    "# print(type(attributes[0]))\n",
    "# print(type(attributes[count1]))\n",
    "list_counts = []\n",
    "with open(\"test.csv\", encoding = \"utf-8\") as f:\n",
    "    #count = len(attributes)\n",
    "    \n",
    "    for line in f:\n",
    "        lower_line = line.lower()\n",
    "        inst = 0\n",
    "        count = len(attributes) - 1\n",
    "        print(count)\n",
    "        while count >= 0:\n",
    "            if attributes[count] in lower_line:\n",
    "                inst += lower_line.count(attributes[count])\n",
    "            count -= 1\n",
    "        list_counts.append(inst)\n",
    "    num = list_counts.index(max(list_counts))\n",
    "with open(\"test.csv\", encoding = \"utf-8\") as csv_file:\n",
    "    reader = csv.reader(csv_file)\n",
    "    rows = list(reader)\n",
    "    \n",
    "print(rows[num])"
   ]
  },
  {
   "cell_type": "code",
   "execution_count": 57,
   "metadata": {},
   "outputs": [
    {
     "output_type": "execute_result",
     "data": {
      "text/plain": [
       "     Name   Gender                    Colors:    Price      Description  \\\n",
       "0    Nike    Men's                 White/Balck  120.00  Nike is awesome   \n",
       "1  Adidas    Men's  Red/University Red/Viollet   49.99   Adidas is cool   \n",
       "2  Jordan  Women's                        Blue  150.00  Jordan is great   \n",
       "3    Puma  Women's                   Teal/Teal  225.00     Puma is nice   \n",
       "\n",
       "                  Sizes      Product ID  \n",
       "0  05.005.506.010.010.5          B12341  \n",
       "1  05.005.508.010.010.5         1243252  \n",
       "2  05.015.506.010.013.5        23452GDs  \n",
       "3  09.005.506.010.010.5  Dds2545DGVBser  "
      ],
      "text/html": "<div>\n<style scoped>\n    .dataframe tbody tr th:only-of-type {\n        vertical-align: middle;\n    }\n\n    .dataframe tbody tr th {\n        vertical-align: top;\n    }\n\n    .dataframe thead th {\n        text-align: right;\n    }\n</style>\n<table border=\"1\" class=\"dataframe\">\n  <thead>\n    <tr style=\"text-align: right;\">\n      <th></th>\n      <th>Name</th>\n      <th>Gender</th>\n      <th>Colors:</th>\n      <th>Price</th>\n      <th>Description</th>\n      <th>Sizes</th>\n      <th>Product ID</th>\n    </tr>\n  </thead>\n  <tbody>\n    <tr>\n      <th>0</th>\n      <td>Nike</td>\n      <td>Men's</td>\n      <td>White/Balck</td>\n      <td>120.00</td>\n      <td>Nike is awesome</td>\n      <td>05.005.506.010.010.5</td>\n      <td>B12341</td>\n    </tr>\n    <tr>\n      <th>1</th>\n      <td>Adidas</td>\n      <td>Men's</td>\n      <td>Red/University Red/Viollet</td>\n      <td>49.99</td>\n      <td>Adidas is cool</td>\n      <td>05.005.508.010.010.5</td>\n      <td>1243252</td>\n    </tr>\n    <tr>\n      <th>2</th>\n      <td>Jordan</td>\n      <td>Women's</td>\n      <td>Blue</td>\n      <td>150.00</td>\n      <td>Jordan is great</td>\n      <td>05.015.506.010.013.5</td>\n      <td>23452GDs</td>\n    </tr>\n    <tr>\n      <th>3</th>\n      <td>Puma</td>\n      <td>Women's</td>\n      <td>Teal/Teal</td>\n      <td>225.00</td>\n      <td>Puma is nice</td>\n      <td>09.005.506.010.010.5</td>\n      <td>Dds2545DGVBser</td>\n    </tr>\n  </tbody>\n</table>\n</div>"
     },
     "metadata": {},
     "execution_count": 57
    }
   ],
   "source": [
    "shoe_dict = {\"Name\": product_names, \"Gender\": product_gender, \n",
    "                 \"Colors: \": product_colors, \"Price\": product_prices,\n",
    "                 \"Description\": product_description, \"Sizes\": product_sizes,\n",
    "                 \"Product ID\": product_num}\n",
    "df = pd.DataFrame.from_dict(shoe_dict)\n",
    "df.head()\n",
    "# reader = csv.reader(shoe_csv)\n",
    "# winner = [row for idx, row in enumerate(reader) if idx == index]\n",
    "# print(winner[index])"
   ]
  },
  {
   "cell_type": "code",
   "execution_count": null,
   "metadata": {},
   "outputs": [],
   "source": []
  }
 ]
}
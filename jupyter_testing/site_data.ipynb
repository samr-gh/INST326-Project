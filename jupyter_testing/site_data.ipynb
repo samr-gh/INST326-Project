{
 "metadata": {
  "language_info": {
   "codemirror_mode": {
    "name": "ipython",
    "version": 3
   },
   "file_extension": ".py",
   "mimetype": "text/x-python",
   "name": "python",
   "nbconvert_exporter": "python",
   "pygments_lexer": "ipython3",
   "version": "3.8.5"
  },
  "orig_nbformat": 2,
  "kernelspec": {
   "name": "python385jvsc74a57bd05894a807992dd6895597051176e46a3bcbda403b5c736c1484b8eca2210508e2",
   "display_name": "Python 3.8.5 64-bit (conda)"
  }
 },
 "nbformat": 4,
 "nbformat_minor": 2,
 "cells": [
  {
   "cell_type": "code",
   "execution_count": 1,
   "metadata": {},
   "outputs": [],
   "source": [
    "import urllib.request\n",
    "from bs4 import BeautifulSoup\n",
    "import time\n",
    "import re"
   ]
  },
  {
   "cell_type": "code",
   "execution_count": 2,
   "metadata": {},
   "outputs": [],
   "source": [
    "product_names = []\n",
    "product_gender = []\n",
    "product_colors = []\n",
    "product_prices = []"
   ]
  },
  {
   "cell_type": "code",
   "execution_count": 3,
   "metadata": {},
   "outputs": [],
   "source": [
    "#specify the url\n",
    "fl = \"https://www.footlocker.com/category/mens/shoes.html\""
   ]
  },
  {
   "cell_type": "code",
   "execution_count": 4,
   "metadata": {},
   "outputs": [],
   "source": [
    "#query the site and return the html\n",
    "page = urllib.request.urlopen(fl)\n",
    "time.sleep(2)"
   ]
  },
  {
   "cell_type": "code",
   "execution_count": 5,
   "metadata": {},
   "outputs": [],
   "source": [
    "#parse the html\n",
    "soup = BeautifulSoup(page, \"html.parser\")"
   ]
  },
  {
   "cell_type": "code",
   "execution_count": 6,
   "metadata": {},
   "outputs": [],
   "source": [
    "for p in soup.find_all('span', class_='ProductName-primary'):\n",
    "    product_names.append(p.text)\n",
    "#print(len(product_names))"
   ]
  },
  {
   "cell_type": "code",
   "execution_count": 7,
   "metadata": {},
   "outputs": [],
   "source": [
    "# product_gender = []\n",
    "for p in soup.find_all('span', class_='ProductName-alt'):\n",
    "    gender = (re.search(r\"(.*)•\", p.text)).group(1)\n",
    "    product_gender.append(gender)\n",
    "    #print(p.text)\n",
    "#print(product_gender)"
   ]
  },
  {
   "cell_type": "code",
   "execution_count": 8,
   "metadata": {},
   "outputs": [],
   "source": [
    "for p in soup.find_all('span', class_='ProductName-alt'):\n",
    "    colors = (re.search(r\"•(.*)\", p.text)).group(1)\n",
    "    product_colors.append(colors)\n",
    "#print(product_colors)"
   ]
  },
  {
   "cell_type": "code",
   "execution_count": 9,
   "metadata": {},
   "outputs": [],
   "source": [
    "for p in soup.find_all('span', class_='ProductPrice'):\n",
    "    product_prices.append(float(p.text[1:]))\n",
    "#print(product_prices)"
   ]
  },
  {
   "cell_type": "code",
   "execution_count": 10,
   "metadata": {},
   "outputs": [
    {
     "output_type": "stream",
     "name": "stdout",
     "text": [
      "['Nike Air Max Plus', \"Nike Air Force 1 '07 LE\", 'Nike Air Vapormax Plus', 'Jordan AJ 1 Low', \"Nike Air Force 1 '07 LV8\", \"Nike Air Force 1 Mid '07 LE\", 'adidas Originals NMD R1.V2', 'Reebok Question Mid I3 Motorsports', 'Reebok Kamikaze', 'Jordan True Flight', 'Nike Air Max Plus', 'Jordan 6 Rings', \"Nike Air Force 1 '07\", 'Nike Cosmic Unity', 'Nike Air VaporMax 2020 Flyknit', 'Nike Cosmic Unity', 'Nike LeBron XVIII Low', \"Nike Air Force 1 '07 LV8\", 'Jordan 6 Rings', \"Nike Air Force 1 '07 LE Low\", 'Nike Blazer High', \"Nike Air Force 1 Mid '07 LE\", 'Nike Air Huarache', 'Nike Air Max 90', 'Nike Air Max Plus', 'Nike Air Max Plus', 'Nike Air Vapormax Plus', 'Jordan Retro 5 Hydro', 'Nike Air Max 270', 'PUMA RS-Dreamer', 'Nike Air Max 90', 'Nike Air VaporMax 2020 Flyknit', 'PUMA Clyde x Jeff Staple \"Create from Chaos\"', 'Jordan True Flight', 'Nike Air Max 270', 'Nike Air Vapormax Plus', 'Nike Air Max 270', 'New Balance Vision Racer', 'Nike Air Force 1 LV8', \"Nike Air Force 1 High '07 LE\", 'Nike Air Max Camden Slide', 'Nike Air Raid', 'Nike Air Max Plus', 'Nike Air Max 90', 'Nike Air Max 90', 'Nike Cosmic Unity', 'Jordan AJ XXXV', 'Nike Air Max 270'] [\"Men's\", \"Men's\", \"Men's\", \"Men's\", \"Men's\", \"Men's\", \"Men's\", \"Men's\", \"Men's\", \"Men's\", \"Men's\", \"Men's\", \"Men's\", \"Men's\", \"Men's\", \"Men's\", \"Men's\", \"Men's\", \"Men's\", \"Men's\", \"Men's\", \"Men's\", \"Men's\", \"Men's\", \"Men's\", \"Men's\", \"Men's\", \"Men's\", \"Men's\", \"Men's\", \"Men's\", \"Men's\", \"Men's\", \"Men's\", \"Men's\", \"Men's\", \"Men's\", \"Men's\", \"Men's\", \"Men's\", \"Men's\", \"Men's\", \"Men's\", \"Men's\", \"Men's\", \"Men's\", \"Men's\", \"Men's\"] ['Black/Black/Black', 'White/White/White', 'Black/Black/Dark Grey', 'White/White/White', 'White/Multi-Color/Black', 'White/White', 'Yellow', 'Black/Silver', 'Green/Orange/Blue', 'White/Cement', 'White/White/White', 'White/Black/Metallic Gold', 'White/Black', 'Natural/Natural/Total Orange', 'Black/Off Noir/Black', 'Light Grey/Chambray Blue/Total Crimson', 'Black/White/University Red', 'Grey/Orange/White', 'White/Black/Carmine', 'Black/Black', 'White/Black/White', 'Black/Black', 'White/Pure Platinum/White', 'White/Black/Orange', 'Red/Black/Silver', 'Black/Purple/White', 'Grey/Navy/Multi', 'White/Fire Red/Black', 'White/Black/White', 'Black/Rainbow/White', 'University Red/Bright Crimson', 'White/Summit White/White', 'White/Silver', 'Black/White/Black', 'Black/Black/Black', 'University Red/University Red/Red', 'University Red/University Red/Black', 'White/Speckled', 'Black/Pink/Blue', 'Black/Black', 'Black/Chlorine Blue', 'White/Brown', 'Black/Turf Orange/Aquamarine', 'White/White/Wolf Grey', 'White/Iron Grey/Chlorine Blue', 'Apricot Agate /Black/Lime Glow', 'Black/Fire Red/Reflect Silver', 'White/Red/Navy'] [170.0, 90.0, 200.0, 90.0, 110.0, 95.0, 140.0, 140.0, 140.0, 140.0, 170.0, 170.0, 90.0, 150.0, 220.0, 150.0, 160.0, 110.0, 170.0, 90.0, 100.0, 95.0, 110.0, 120.0, 170.0, 170.0, 200.0, 58.0, 150.0, 125.0, 130.0, 220.0, 150.0, 140.0, 150.0, 200.0, 150.0, 150.0, 110.0, 100.0, 50.0, 140.0, 160.0, 120.0, 120.0, 150.0, 180.0, 150.0]\n"
     ]
    }
   ],
   "source": [
    "print(product_names, product_gender, product_colors, product_prices)"
   ]
  }
 ]
}
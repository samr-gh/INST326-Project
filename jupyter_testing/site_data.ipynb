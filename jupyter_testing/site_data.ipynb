{
 "metadata": {
  "language_info": {
   "codemirror_mode": {
    "name": "ipython",
    "version": 3
   },
   "file_extension": ".py",
   "mimetype": "text/x-python",
   "name": "python",
   "nbconvert_exporter": "python",
   "pygments_lexer": "ipython3",
   "version": "3.8.5"
  },
  "orig_nbformat": 2,
  "kernelspec": {
   "name": "python385jvsc74a57bd05894a807992dd6895597051176e46a3bcbda403b5c736c1484b8eca2210508e2",
   "display_name": "Python 3.8.5 64-bit ('base': conda)"
  }
 },
 "nbformat": 4,
 "nbformat_minor": 2,
 "cells": [
  {
   "cell_type": "code",
   "execution_count": 1,
   "metadata": {},
   "outputs": [],
   "source": [
    "import urllib.request\n",
    "from bs4 import BeautifulSoup\n",
    "import time\n",
    "import re\n",
    "import pandas as pd"
   ]
  },
  {
   "cell_type": "code",
   "execution_count": 2,
   "metadata": {},
   "outputs": [],
   "source": [
    "product_names = [\"Nike\", \"Adidas\", \"Jordan\", \"Puma\"]\n",
    "product_gender = [\"Men's\", \"Men's\", \"Women's\", \"Women's\"]\n",
    "product_colors = [\"White/Balck\", \"Red/University Red/Viollet\", \"Blue\", \"Teal/Teal\"]\n",
    "product_prices = [120.00, 49.99, 150.0, 225]\n",
    "product_description = [\"Nike is awesome\", \"Adidas is cool\", \"Jordan is great\", \"Puma is nice\"]\n",
    "product_sizes = [\"05.005.506.010.010.5\", \"05.005.508.010.010.5\", \"05.015.506.010.013.5\", \"09.005.506.010.010.5\"]\n",
    "product_num = [\"B12341\", \"1243252\", \"23452GDs\", \"Dds2545DGVBser\"]"
   ]
  },
  {
   "cell_type": "code",
   "execution_count": 9,
   "metadata": {},
   "outputs": [],
   "source": [
    "shoe_dict = {\"Name\": product_names, \"Gender\": product_gender, \n",
    "                 \"Colors: \": product_colors, \"Price\": product_prices,\n",
    "                 \"Description\": product_description, \"Sizes\": product_sizes,\n",
    "                 \"Product ID\": product_num}\n",
    "df = pd.DataFrame.from_dict(shoe_dict)\n",
    "\n",
    "df.to_csv(\"test.csv\")"
   ]
  },
  {
   "cell_type": "code",
   "execution_count": null,
   "metadata": {},
   "outputs": [],
   "source": [
    "i = 1\n",
    "print(\"count\",[i])"
   ]
  }
 ]
}